{
  "nbformat": 4,
  "nbformat_minor": 0,
  "metadata": {
    "colab": {
      "provenance": [],
      "collapsed_sections": [],
      "include_colab_link": true
    },
    "kernelspec": {
      "name": "python3",
      "display_name": "Python 3"
    },
    "language_info": {
      "name": "python"
    }
  },
  "cells": [
    {
      "cell_type": "markdown",
      "metadata": {
        "id": "view-in-github",
        "colab_type": "text"
      },
      "source": [
        "<a href=\"https://colab.research.google.com/github/frianlh/DataMining-Project/blob/main/Case_Study_2_Group_2_ipynb.ipynb\" target=\"_parent\"><img src=\"https://colab.research.google.com/assets/colab-badge.svg\" alt=\"Open In Colab\"/></a>"
      ]
    },
    {
      "cell_type": "markdown",
      "source": [
        "# **Kelompok 2:**\n",
        "1. Benedicta Winni Lisachritanty (1906299446)\n",
        "2. Caroline Woenarso (1906375663)\n",
        "3. Daffi Farhansyah Kurnia (1906375833)\n",
        "4. Dea Kristina (1906354053)\n",
        "5. Fria Nurul Hidayat (1906299484)\n",
        "6. Sitesh Suresh Bhojwani (1906354085)"
      ],
      "metadata": {
        "id": "_ziDcpKLTX8k"
      }
    },
    {
      "cell_type": "markdown",
      "source": [
        "# **Problem Statment**"
      ],
      "metadata": {
        "id": "BP1yu9-xVGbh"
      }
    },
    {
      "cell_type": "markdown",
      "source": [
        "## **MixITup Ice Cream**\n",
        "\n",
        "* MxITup adalah perusahaan rintisan yang dimotori para anak muda yang bergerak di bidang usaha Ice Cream, Boba Drinks, dan Desserts (snacks).\n",
        "* Saat ini MixITup memiliki 3 cabang di Jakarta, Depok, dan Tangerang. MixITup mendapat respon positif di masyarakat, antrian dine-in dan pesan-antar produk MixITup melebihi kapasitas pelayanan.\n",
        "* Bulan lalu MixITup mendapatkan pendanaan seri B sebesar Rp. 33 Milyar,-. Rencananya MixITup ingin \"scale\" business-nya ke kota lain dan melakukan massive marketing.\n",
        "* Melalui iming-iming diskon 5% untuk beberapa item di tokonya dan pembagian voucher promo diskon, MixITup berhasil mengumpulkan data pelanggan melalui kartu membernya (loyality program).\n",
        "* Anda adalah Data Analyst junior di MixITup, tugas anda adalah melakukan proses Data Mining dan memberikan informasi/insight dan saran/rekomendasi/strategi ke perusahaan via data."
      ],
      "metadata": {
        "id": "tHpa0O1iXZwj"
      }
    },
    {
      "cell_type": "markdown",
      "source": [
        "## **Main Focus**\n",
        "\n",
        "* How to scale our business?\n",
        "* How to retain our customers?\n",
        "* How to make customers' behavior to buy from us (make them stick to us)."
      ],
      "metadata": {
        "id": "O20yJV6kVz6H"
      }
    },
    {
      "cell_type": "markdown",
      "source": [
        "# **Modules**"
      ],
      "metadata": {
        "id": "8ywPizmNW9s9"
      }
    },
    {
      "cell_type": "code",
      "execution_count": null,
      "metadata": {
        "id": "M_Wlkr1FTVBG"
      },
      "outputs": [],
      "source": []
    },
    {
      "cell_type": "markdown",
      "source": [
        "# **Data Set**"
      ],
      "metadata": {
        "id": "8WEXSw29XAHD"
      }
    },
    {
      "cell_type": "code",
      "source": [],
      "metadata": {
        "id": "u71d6alEXDFE"
      },
      "execution_count": null,
      "outputs": []
    },
    {
      "cell_type": "markdown",
      "source": [
        "# **Pre Processing**"
      ],
      "metadata": {
        "id": "iPzw9pziXDbr"
      }
    },
    {
      "cell_type": "code",
      "source": [],
      "metadata": {
        "id": "BkVw2gAmXF61"
      },
      "execution_count": null,
      "outputs": []
    },
    {
      "cell_type": "markdown",
      "source": [
        "# **Exploratory Data Analysis**"
      ],
      "metadata": {
        "id": "33UKxeOPXGT9"
      }
    },
    {
      "cell_type": "code",
      "source": [],
      "metadata": {
        "id": "n9O1mi-eXNfH"
      },
      "execution_count": null,
      "outputs": []
    },
    {
      "cell_type": "markdown",
      "source": [
        "# **Clustering**"
      ],
      "metadata": {
        "id": "xLqHsc4LXN7k"
      }
    },
    {
      "cell_type": "code",
      "source": [],
      "metadata": {
        "id": "bL0aXcAOXP_T"
      },
      "execution_count": null,
      "outputs": []
    },
    {
      "cell_type": "markdown",
      "source": [
        "# **Kesimpulan**"
      ],
      "metadata": {
        "id": "S4L_yiB6XQSr"
      }
    },
    {
      "cell_type": "markdown",
      "source": [
        "Txt"
      ],
      "metadata": {
        "id": "z-u8vsOiXgJa"
      }
    },
    {
      "cell_type": "markdown",
      "source": [
        "# **Recommendation**"
      ],
      "metadata": {
        "id": "AV00NKcSX9CT"
      }
    },
    {
      "cell_type": "markdown",
      "source": [
        "Txt"
      ],
      "metadata": {
        "id": "IdZfsYjYYAF-"
      }
    }
  ]
}